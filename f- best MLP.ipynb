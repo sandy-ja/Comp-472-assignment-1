{
 "cells": [
  {
   "cell_type": "code",
   "execution_count": 17,
   "metadata": {},
   "outputs": [],
   "source": [
    "from sklearn.neural_network import MLPClassifier\n",
    "from sklearn.model_selection import GridSearchCV\n",
    "import pandas as pd    #importing librabies needed\n",
    "from pandas import DataFrame\n"
   ]
  },
  {
   "cell_type": "code",
   "execution_count": 18,
   "metadata": {},
   "outputs": [],
   "source": [
    "param_grid = {\n",
    "    'activation' : ['logistic', 'tanh', 'relu', 'identity'], # Requirement (Note: logistic == sigmoid)\n",
    "    'hidden_layer_sizes' : [(30, 50), (10, 10, 10)], # Values of our choice\n",
    "    'solver' : ['adam', 'sgd'] # Requirement\n",
    "}"
   ]
  },
  {
   "cell_type": "code",
   "execution_count": 19,
   "metadata": {},
   "outputs": [],
   "source": [
    "file = pd.read_csv('train_1.csv')        #reading the training file "
   ]
  },
  {
   "cell_type": "code",
   "execution_count": 20,
   "metadata": {},
   "outputs": [],
   "source": [
    "y_train = file.iloc[:,-1:]               #splitting the last column from the training set (the result)\n"
   ]
  },
  {
   "cell_type": "code",
   "execution_count": 21,
   "metadata": {},
   "outputs": [],
   "source": [
    "x_train = file.iloc[:,:-1]               #splitting features columns \n"
   ]
  },
  {
   "cell_type": "code",
   "execution_count": 22,
   "metadata": {},
   "outputs": [],
   "source": [
    "gridSearch = GridSearchCV(MLPClassifier(), param_grid, verbose=5) # Change verbose size for more or less console output\n"
   ]
  },
  {
   "cell_type": "code",
   "execution_count": null,
   "metadata": {},
   "outputs": [
    {
     "name": "stdout",
     "output_type": "stream",
     "text": [
      "Fitting 5 folds for each of 16 candidates, totalling 80 fits\n",
      "[CV] activation=logistic, hidden_layer_sizes=(30, 50), solver=adam ...\n"
     ]
    },
    {
     "name": "stderr",
     "output_type": "stream",
     "text": [
      "[Parallel(n_jobs=1)]: Using backend SequentialBackend with 1 concurrent workers.\n",
      "C:\\Users\\Sandy\\anaconda3\\lib\\site-packages\\sklearn\\neural_network\\_multilayer_perceptron.py:582: ConvergenceWarning: Stochastic Optimizer: Maximum iterations (200) reached and the optimization hasn't converged yet.\n",
      "  warnings.warn(\n",
      "[Parallel(n_jobs=1)]: Done   1 out of   1 | elapsed:   11.5s remaining:    0.0s\n"
     ]
    },
    {
     "name": "stdout",
     "output_type": "stream",
     "text": [
      "[CV]  activation=logistic, hidden_layer_sizes=(30, 50), solver=adam, score=0.812, total=  11.6s\n",
      "[CV] activation=logistic, hidden_layer_sizes=(30, 50), solver=adam ...\n"
     ]
    },
    {
     "name": "stderr",
     "output_type": "stream",
     "text": [
      "C:\\Users\\Sandy\\anaconda3\\lib\\site-packages\\sklearn\\neural_network\\_multilayer_perceptron.py:582: ConvergenceWarning: Stochastic Optimizer: Maximum iterations (200) reached and the optimization hasn't converged yet.\n",
      "  warnings.warn(\n",
      "[Parallel(n_jobs=1)]: Done   2 out of   2 | elapsed:   23.4s remaining:    0.0s\n"
     ]
    },
    {
     "name": "stdout",
     "output_type": "stream",
     "text": [
      "[CV]  activation=logistic, hidden_layer_sizes=(30, 50), solver=adam, score=0.732, total=  11.9s\n",
      "[CV] activation=logistic, hidden_layer_sizes=(30, 50), solver=adam ...\n"
     ]
    },
    {
     "name": "stderr",
     "output_type": "stream",
     "text": [
      "C:\\Users\\Sandy\\anaconda3\\lib\\site-packages\\sklearn\\neural_network\\_multilayer_perceptron.py:582: ConvergenceWarning: Stochastic Optimizer: Maximum iterations (200) reached and the optimization hasn't converged yet.\n",
      "  warnings.warn(\n",
      "[Parallel(n_jobs=1)]: Done   3 out of   3 | elapsed:   35.0s remaining:    0.0s\n"
     ]
    },
    {
     "name": "stdout",
     "output_type": "stream",
     "text": [
      "[CV]  activation=logistic, hidden_layer_sizes=(30, 50), solver=adam, score=0.766, total=  11.6s\n",
      "[CV] activation=logistic, hidden_layer_sizes=(30, 50), solver=adam ...\n"
     ]
    },
    {
     "name": "stderr",
     "output_type": "stream",
     "text": [
      "C:\\Users\\Sandy\\anaconda3\\lib\\site-packages\\sklearn\\neural_network\\_multilayer_perceptron.py:582: ConvergenceWarning: Stochastic Optimizer: Maximum iterations (200) reached and the optimization hasn't converged yet.\n",
      "  warnings.warn(\n",
      "[Parallel(n_jobs=1)]: Done   4 out of   4 | elapsed:   46.5s remaining:    0.0s\n"
     ]
    },
    {
     "name": "stdout",
     "output_type": "stream",
     "text": [
      "[CV]  activation=logistic, hidden_layer_sizes=(30, 50), solver=adam, score=0.782, total=  11.5s\n",
      "[CV] activation=logistic, hidden_layer_sizes=(30, 50), solver=adam ...\n"
     ]
    },
    {
     "name": "stderr",
     "output_type": "stream",
     "text": [
      "C:\\Users\\Sandy\\anaconda3\\lib\\site-packages\\sklearn\\neural_network\\_multilayer_perceptron.py:582: ConvergenceWarning: Stochastic Optimizer: Maximum iterations (200) reached and the optimization hasn't converged yet.\n",
      "  warnings.warn(\n"
     ]
    },
    {
     "name": "stdout",
     "output_type": "stream",
     "text": [
      "[CV]  activation=logistic, hidden_layer_sizes=(30, 50), solver=adam, score=0.711, total=  11.5s\n",
      "[CV] activation=logistic, hidden_layer_sizes=(30, 50), solver=sgd ....\n",
      "[CV]  activation=logistic, hidden_layer_sizes=(30, 50), solver=sgd, score=0.050, total=   4.6s\n",
      "[CV] activation=logistic, hidden_layer_sizes=(30, 50), solver=sgd ....\n",
      "[CV]  activation=logistic, hidden_layer_sizes=(30, 50), solver=sgd, score=0.059, total=   5.0s\n",
      "[CV] activation=logistic, hidden_layer_sizes=(30, 50), solver=sgd ....\n",
      "[CV]  activation=logistic, hidden_layer_sizes=(30, 50), solver=sgd, score=0.046, total=   4.8s\n",
      "[CV] activation=logistic, hidden_layer_sizes=(30, 50), solver=sgd ....\n",
      "[CV]  activation=logistic, hidden_layer_sizes=(30, 50), solver=sgd, score=0.059, total=   5.4s\n",
      "[CV] activation=logistic, hidden_layer_sizes=(30, 50), solver=sgd ....\n",
      "[CV]  activation=logistic, hidden_layer_sizes=(30, 50), solver=sgd, score=0.071, total=   5.4s\n",
      "[CV] activation=logistic, hidden_layer_sizes=(10, 10, 10), solver=adam \n"
     ]
    },
    {
     "name": "stderr",
     "output_type": "stream",
     "text": [
      "C:\\Users\\Sandy\\anaconda3\\lib\\site-packages\\sklearn\\neural_network\\_multilayer_perceptron.py:582: ConvergenceWarning: Stochastic Optimizer: Maximum iterations (200) reached and the optimization hasn't converged yet.\n",
      "  warnings.warn(\n"
     ]
    },
    {
     "name": "stdout",
     "output_type": "stream",
     "text": [
      "[CV]  activation=logistic, hidden_layer_sizes=(10, 10, 10), solver=adam, score=0.183, total=  10.3s\n",
      "[CV] activation=logistic, hidden_layer_sizes=(10, 10, 10), solver=adam \n"
     ]
    },
    {
     "name": "stderr",
     "output_type": "stream",
     "text": [
      "C:\\Users\\Sandy\\anaconda3\\lib\\site-packages\\sklearn\\neural_network\\_multilayer_perceptron.py:582: ConvergenceWarning: Stochastic Optimizer: Maximum iterations (200) reached and the optimization hasn't converged yet.\n",
      "  warnings.warn(\n"
     ]
    },
    {
     "name": "stdout",
     "output_type": "stream",
     "text": [
      "[CV]  activation=logistic, hidden_layer_sizes=(10, 10, 10), solver=adam, score=0.100, total=  10.0s\n",
      "[CV] activation=logistic, hidden_layer_sizes=(10, 10, 10), solver=adam \n"
     ]
    },
    {
     "name": "stderr",
     "output_type": "stream",
     "text": [
      "C:\\Users\\Sandy\\anaconda3\\lib\\site-packages\\sklearn\\neural_network\\_multilayer_perceptron.py:582: ConvergenceWarning: Stochastic Optimizer: Maximum iterations (200) reached and the optimization hasn't converged yet.\n",
      "  warnings.warn(\n"
     ]
    },
    {
     "name": "stdout",
     "output_type": "stream",
     "text": [
      "[CV]  activation=logistic, hidden_layer_sizes=(10, 10, 10), solver=adam, score=0.268, total=  10.1s\n",
      "[CV] activation=logistic, hidden_layer_sizes=(10, 10, 10), solver=adam \n"
     ]
    },
    {
     "name": "stderr",
     "output_type": "stream",
     "text": [
      "C:\\Users\\Sandy\\anaconda3\\lib\\site-packages\\sklearn\\neural_network\\_multilayer_perceptron.py:582: ConvergenceWarning: Stochastic Optimizer: Maximum iterations (200) reached and the optimization hasn't converged yet.\n",
      "  warnings.warn(\n"
     ]
    },
    {
     "name": "stdout",
     "output_type": "stream",
     "text": [
      "[CV]  activation=logistic, hidden_layer_sizes=(10, 10, 10), solver=adam, score=0.121, total=  10.2s\n",
      "[CV] activation=logistic, hidden_layer_sizes=(10, 10, 10), solver=adam \n"
     ]
    },
    {
     "name": "stderr",
     "output_type": "stream",
     "text": [
      "C:\\Users\\Sandy\\anaconda3\\lib\\site-packages\\sklearn\\neural_network\\_multilayer_perceptron.py:582: ConvergenceWarning: Stochastic Optimizer: Maximum iterations (200) reached and the optimization hasn't converged yet.\n",
      "  warnings.warn(\n"
     ]
    },
    {
     "name": "stdout",
     "output_type": "stream",
     "text": [
      "[CV]  activation=logistic, hidden_layer_sizes=(10, 10, 10), solver=adam, score=0.117, total=  11.1s\n",
      "[CV] activation=logistic, hidden_layer_sizes=(10, 10, 10), solver=sgd \n",
      "[CV]  activation=logistic, hidden_layer_sizes=(10, 10, 10), solver=sgd, score=0.046, total=   8.4s\n",
      "[CV] activation=logistic, hidden_layer_sizes=(10, 10, 10), solver=sgd \n",
      "[CV]  activation=logistic, hidden_layer_sizes=(10, 10, 10), solver=sgd, score=0.042, total=   6.8s\n",
      "[CV] activation=logistic, hidden_layer_sizes=(10, 10, 10), solver=sgd \n",
      "[CV]  activation=logistic, hidden_layer_sizes=(10, 10, 10), solver=sgd, score=0.042, total=   8.7s\n",
      "[CV] activation=logistic, hidden_layer_sizes=(10, 10, 10), solver=sgd \n",
      "[CV]  activation=logistic, hidden_layer_sizes=(10, 10, 10), solver=sgd, score=0.042, total=   6.6s\n",
      "[CV] activation=logistic, hidden_layer_sizes=(10, 10, 10), solver=sgd \n",
      "[CV]  activation=logistic, hidden_layer_sizes=(10, 10, 10), solver=sgd, score=0.046, total=   7.1s\n",
      "[CV] activation=tanh, hidden_layer_sizes=(30, 50), solver=adam .......\n"
     ]
    },
    {
     "name": "stderr",
     "output_type": "stream",
     "text": [
      "C:\\Users\\Sandy\\anaconda3\\lib\\site-packages\\sklearn\\neural_network\\_multilayer_perceptron.py:582: ConvergenceWarning: Stochastic Optimizer: Maximum iterations (200) reached and the optimization hasn't converged yet.\n",
      "  warnings.warn(\n"
     ]
    },
    {
     "name": "stdout",
     "output_type": "stream",
     "text": [
      "[CV]  activation=tanh, hidden_layer_sizes=(30, 50), solver=adam, score=0.825, total=  12.3s\n",
      "[CV] activation=tanh, hidden_layer_sizes=(30, 50), solver=adam .......\n"
     ]
    },
    {
     "name": "stderr",
     "output_type": "stream",
     "text": [
      "C:\\Users\\Sandy\\anaconda3\\lib\\site-packages\\sklearn\\neural_network\\_multilayer_perceptron.py:582: ConvergenceWarning: Stochastic Optimizer: Maximum iterations (200) reached and the optimization hasn't converged yet.\n",
      "  warnings.warn(\n"
     ]
    },
    {
     "name": "stdout",
     "output_type": "stream",
     "text": [
      "[CV]  activation=tanh, hidden_layer_sizes=(30, 50), solver=adam, score=0.753, total=  11.8s\n",
      "[CV] activation=tanh, hidden_layer_sizes=(30, 50), solver=adam .......\n"
     ]
    },
    {
     "name": "stderr",
     "output_type": "stream",
     "text": [
      "C:\\Users\\Sandy\\anaconda3\\lib\\site-packages\\sklearn\\neural_network\\_multilayer_perceptron.py:582: ConvergenceWarning: Stochastic Optimizer: Maximum iterations (200) reached and the optimization hasn't converged yet.\n",
      "  warnings.warn(\n"
     ]
    },
    {
     "name": "stdout",
     "output_type": "stream",
     "text": [
      "[CV]  activation=tanh, hidden_layer_sizes=(30, 50), solver=adam, score=0.833, total=  12.0s\n",
      "[CV] activation=tanh, hidden_layer_sizes=(30, 50), solver=adam .......\n"
     ]
    },
    {
     "name": "stderr",
     "output_type": "stream",
     "text": [
      "C:\\Users\\Sandy\\anaconda3\\lib\\site-packages\\sklearn\\neural_network\\_multilayer_perceptron.py:582: ConvergenceWarning: Stochastic Optimizer: Maximum iterations (200) reached and the optimization hasn't converged yet.\n",
      "  warnings.warn(\n"
     ]
    },
    {
     "name": "stdout",
     "output_type": "stream",
     "text": [
      "[CV]  activation=tanh, hidden_layer_sizes=(30, 50), solver=adam, score=0.803, total=  12.1s\n",
      "[CV] activation=tanh, hidden_layer_sizes=(30, 50), solver=adam .......\n"
     ]
    },
    {
     "name": "stderr",
     "output_type": "stream",
     "text": [
      "C:\\Users\\Sandy\\anaconda3\\lib\\site-packages\\sklearn\\neural_network\\_multilayer_perceptron.py:582: ConvergenceWarning: Stochastic Optimizer: Maximum iterations (200) reached and the optimization hasn't converged yet.\n",
      "  warnings.warn(\n"
     ]
    },
    {
     "name": "stdout",
     "output_type": "stream",
     "text": [
      "[CV]  activation=tanh, hidden_layer_sizes=(30, 50), solver=adam, score=0.770, total=  12.3s\n",
      "[CV] activation=tanh, hidden_layer_sizes=(30, 50), solver=sgd ........\n"
     ]
    },
    {
     "name": "stderr",
     "output_type": "stream",
     "text": [
      "C:\\Users\\Sandy\\anaconda3\\lib\\site-packages\\sklearn\\neural_network\\_multilayer_perceptron.py:582: ConvergenceWarning: Stochastic Optimizer: Maximum iterations (200) reached and the optimization hasn't converged yet.\n",
      "  warnings.warn(\n"
     ]
    },
    {
     "name": "stdout",
     "output_type": "stream",
     "text": [
      "[CV]  activation=tanh, hidden_layer_sizes=(30, 50), solver=sgd, score=0.708, total=  10.4s\n",
      "[CV] activation=tanh, hidden_layer_sizes=(30, 50), solver=sgd ........\n"
     ]
    },
    {
     "name": "stderr",
     "output_type": "stream",
     "text": [
      "C:\\Users\\Sandy\\anaconda3\\lib\\site-packages\\sklearn\\neural_network\\_multilayer_perceptron.py:582: ConvergenceWarning: Stochastic Optimizer: Maximum iterations (200) reached and the optimization hasn't converged yet.\n",
      "  warnings.warn(\n"
     ]
    },
    {
     "name": "stdout",
     "output_type": "stream",
     "text": [
      "[CV]  activation=tanh, hidden_layer_sizes=(30, 50), solver=sgd, score=0.665, total=  11.0s\n",
      "[CV] activation=tanh, hidden_layer_sizes=(30, 50), solver=sgd ........\n"
     ]
    },
    {
     "name": "stderr",
     "output_type": "stream",
     "text": [
      "C:\\Users\\Sandy\\anaconda3\\lib\\site-packages\\sklearn\\neural_network\\_multilayer_perceptron.py:582: ConvergenceWarning: Stochastic Optimizer: Maximum iterations (200) reached and the optimization hasn't converged yet.\n",
      "  warnings.warn(\n"
     ]
    },
    {
     "name": "stdout",
     "output_type": "stream",
     "text": [
      "[CV]  activation=tanh, hidden_layer_sizes=(30, 50), solver=sgd, score=0.699, total=  11.4s\n",
      "[CV] activation=tanh, hidden_layer_sizes=(30, 50), solver=sgd ........\n"
     ]
    },
    {
     "name": "stderr",
     "output_type": "stream",
     "text": [
      "C:\\Users\\Sandy\\anaconda3\\lib\\site-packages\\sklearn\\neural_network\\_multilayer_perceptron.py:582: ConvergenceWarning: Stochastic Optimizer: Maximum iterations (200) reached and the optimization hasn't converged yet.\n",
      "  warnings.warn(\n"
     ]
    },
    {
     "name": "stdout",
     "output_type": "stream",
     "text": [
      "[CV]  activation=tanh, hidden_layer_sizes=(30, 50), solver=sgd, score=0.707, total=  11.2s\n",
      "[CV] activation=tanh, hidden_layer_sizes=(30, 50), solver=sgd ........\n"
     ]
    },
    {
     "name": "stderr",
     "output_type": "stream",
     "text": [
      "C:\\Users\\Sandy\\anaconda3\\lib\\site-packages\\sklearn\\neural_network\\_multilayer_perceptron.py:582: ConvergenceWarning: Stochastic Optimizer: Maximum iterations (200) reached and the optimization hasn't converged yet.\n",
      "  warnings.warn(\n"
     ]
    },
    {
     "name": "stdout",
     "output_type": "stream",
     "text": [
      "[CV]  activation=tanh, hidden_layer_sizes=(30, 50), solver=sgd, score=0.661, total=  10.9s\n",
      "[CV] activation=tanh, hidden_layer_sizes=(10, 10, 10), solver=adam ...\n"
     ]
    },
    {
     "name": "stderr",
     "output_type": "stream",
     "text": [
      "C:\\Users\\Sandy\\anaconda3\\lib\\site-packages\\sklearn\\neural_network\\_multilayer_perceptron.py:582: ConvergenceWarning: Stochastic Optimizer: Maximum iterations (200) reached and the optimization hasn't converged yet.\n",
      "  warnings.warn(\n"
     ]
    },
    {
     "name": "stdout",
     "output_type": "stream",
     "text": [
      "[CV]  activation=tanh, hidden_layer_sizes=(10, 10, 10), solver=adam, score=0.504, total=  10.2s\n",
      "[CV] activation=tanh, hidden_layer_sizes=(10, 10, 10), solver=adam ...\n"
     ]
    },
    {
     "name": "stderr",
     "output_type": "stream",
     "text": [
      "C:\\Users\\Sandy\\anaconda3\\lib\\site-packages\\sklearn\\neural_network\\_multilayer_perceptron.py:582: ConvergenceWarning: Stochastic Optimizer: Maximum iterations (200) reached and the optimization hasn't converged yet.\n",
      "  warnings.warn(\n"
     ]
    },
    {
     "name": "stdout",
     "output_type": "stream",
     "text": [
      "[CV]  activation=tanh, hidden_layer_sizes=(10, 10, 10), solver=adam, score=0.523, total=  10.4s\n",
      "[CV] activation=tanh, hidden_layer_sizes=(10, 10, 10), solver=adam ...\n"
     ]
    },
    {
     "name": "stderr",
     "output_type": "stream",
     "text": [
      "C:\\Users\\Sandy\\anaconda3\\lib\\site-packages\\sklearn\\neural_network\\_multilayer_perceptron.py:582: ConvergenceWarning: Stochastic Optimizer: Maximum iterations (200) reached and the optimization hasn't converged yet.\n",
      "  warnings.warn(\n"
     ]
    },
    {
     "name": "stdout",
     "output_type": "stream",
     "text": [
      "[CV]  activation=tanh, hidden_layer_sizes=(10, 10, 10), solver=adam, score=0.490, total=   9.8s\n",
      "[CV] activation=tanh, hidden_layer_sizes=(10, 10, 10), solver=adam ...\n"
     ]
    },
    {
     "name": "stderr",
     "output_type": "stream",
     "text": [
      "C:\\Users\\Sandy\\anaconda3\\lib\\site-packages\\sklearn\\neural_network\\_multilayer_perceptron.py:582: ConvergenceWarning: Stochastic Optimizer: Maximum iterations (200) reached and the optimization hasn't converged yet.\n",
      "  warnings.warn(\n"
     ]
    },
    {
     "name": "stdout",
     "output_type": "stream",
     "text": [
      "[CV]  activation=tanh, hidden_layer_sizes=(10, 10, 10), solver=adam, score=0.569, total=  10.5s\n",
      "[CV] activation=tanh, hidden_layer_sizes=(10, 10, 10), solver=adam ...\n"
     ]
    },
    {
     "name": "stderr",
     "output_type": "stream",
     "text": [
      "C:\\Users\\Sandy\\anaconda3\\lib\\site-packages\\sklearn\\neural_network\\_multilayer_perceptron.py:582: ConvergenceWarning: Stochastic Optimizer: Maximum iterations (200) reached and the optimization hasn't converged yet.\n",
      "  warnings.warn(\n"
     ]
    },
    {
     "name": "stdout",
     "output_type": "stream",
     "text": [
      "[CV]  activation=tanh, hidden_layer_sizes=(10, 10, 10), solver=adam, score=0.527, total=  10.2s\n",
      "[CV] activation=tanh, hidden_layer_sizes=(10, 10, 10), solver=sgd ....\n"
     ]
    },
    {
     "name": "stderr",
     "output_type": "stream",
     "text": [
      "C:\\Users\\Sandy\\anaconda3\\lib\\site-packages\\sklearn\\neural_network\\_multilayer_perceptron.py:582: ConvergenceWarning: Stochastic Optimizer: Maximum iterations (200) reached and the optimization hasn't converged yet.\n",
      "  warnings.warn(\n"
     ]
    },
    {
     "name": "stdout",
     "output_type": "stream",
     "text": [
      "[CV]  activation=tanh, hidden_layer_sizes=(10, 10, 10), solver=sgd, score=0.263, total=   9.8s\n",
      "[CV] activation=tanh, hidden_layer_sizes=(10, 10, 10), solver=sgd ....\n"
     ]
    },
    {
     "name": "stderr",
     "output_type": "stream",
     "text": [
      "C:\\Users\\Sandy\\anaconda3\\lib\\site-packages\\sklearn\\neural_network\\_multilayer_perceptron.py:582: ConvergenceWarning: Stochastic Optimizer: Maximum iterations (200) reached and the optimization hasn't converged yet.\n",
      "  warnings.warn(\n"
     ]
    },
    {
     "name": "stdout",
     "output_type": "stream",
     "text": [
      "[CV]  activation=tanh, hidden_layer_sizes=(10, 10, 10), solver=sgd, score=0.188, total=   9.8s\n",
      "[CV] activation=tanh, hidden_layer_sizes=(10, 10, 10), solver=sgd ....\n"
     ]
    },
    {
     "name": "stderr",
     "output_type": "stream",
     "text": [
      "C:\\Users\\Sandy\\anaconda3\\lib\\site-packages\\sklearn\\neural_network\\_multilayer_perceptron.py:582: ConvergenceWarning: Stochastic Optimizer: Maximum iterations (200) reached and the optimization hasn't converged yet.\n",
      "  warnings.warn(\n"
     ]
    },
    {
     "name": "stdout",
     "output_type": "stream",
     "text": [
      "[CV]  activation=tanh, hidden_layer_sizes=(10, 10, 10), solver=sgd, score=0.305, total=   9.8s\n",
      "[CV] activation=tanh, hidden_layer_sizes=(10, 10, 10), solver=sgd ....\n"
     ]
    },
    {
     "name": "stderr",
     "output_type": "stream",
     "text": [
      "C:\\Users\\Sandy\\anaconda3\\lib\\site-packages\\sklearn\\neural_network\\_multilayer_perceptron.py:582: ConvergenceWarning: Stochastic Optimizer: Maximum iterations (200) reached and the optimization hasn't converged yet.\n",
      "  warnings.warn(\n"
     ]
    },
    {
     "name": "stdout",
     "output_type": "stream",
     "text": [
      "[CV]  activation=tanh, hidden_layer_sizes=(10, 10, 10), solver=sgd, score=0.305, total=   9.7s\n",
      "[CV] activation=tanh, hidden_layer_sizes=(10, 10, 10), solver=sgd ....\n"
     ]
    },
    {
     "name": "stderr",
     "output_type": "stream",
     "text": [
      "C:\\Users\\Sandy\\anaconda3\\lib\\site-packages\\sklearn\\neural_network\\_multilayer_perceptron.py:582: ConvergenceWarning: Stochastic Optimizer: Maximum iterations (200) reached and the optimization hasn't converged yet.\n",
      "  warnings.warn(\n"
     ]
    },
    {
     "name": "stdout",
     "output_type": "stream",
     "text": [
      "[CV]  activation=tanh, hidden_layer_sizes=(10, 10, 10), solver=sgd, score=0.280, total=  10.0s\n",
      "[CV] activation=relu, hidden_layer_sizes=(30, 50), solver=adam .......\n"
     ]
    },
    {
     "name": "stderr",
     "output_type": "stream",
     "text": [
      "C:\\Users\\Sandy\\anaconda3\\lib\\site-packages\\sklearn\\neural_network\\_multilayer_perceptron.py:582: ConvergenceWarning: Stochastic Optimizer: Maximum iterations (200) reached and the optimization hasn't converged yet.\n",
      "  warnings.warn(\n"
     ]
    },
    {
     "name": "stdout",
     "output_type": "stream",
     "text": [
      "[CV]  activation=relu, hidden_layer_sizes=(30, 50), solver=adam, score=0.779, total=  12.2s\n",
      "[CV] activation=relu, hidden_layer_sizes=(30, 50), solver=adam .......\n"
     ]
    },
    {
     "name": "stderr",
     "output_type": "stream",
     "text": [
      "C:\\Users\\Sandy\\anaconda3\\lib\\site-packages\\sklearn\\neural_network\\_multilayer_perceptron.py:582: ConvergenceWarning: Stochastic Optimizer: Maximum iterations (200) reached and the optimization hasn't converged yet.\n",
      "  warnings.warn(\n"
     ]
    },
    {
     "name": "stdout",
     "output_type": "stream",
     "text": [
      "[CV]  activation=relu, hidden_layer_sizes=(30, 50), solver=adam, score=0.757, total=  12.1s\n",
      "[CV] activation=relu, hidden_layer_sizes=(30, 50), solver=adam .......\n"
     ]
    },
    {
     "name": "stderr",
     "output_type": "stream",
     "text": [
      "C:\\Users\\Sandy\\anaconda3\\lib\\site-packages\\sklearn\\neural_network\\_multilayer_perceptron.py:582: ConvergenceWarning: Stochastic Optimizer: Maximum iterations (200) reached and the optimization hasn't converged yet.\n",
      "  warnings.warn(\n"
     ]
    },
    {
     "name": "stdout",
     "output_type": "stream",
     "text": [
      "[CV]  activation=relu, hidden_layer_sizes=(30, 50), solver=adam, score=0.762, total=  12.2s\n",
      "[CV] activation=relu, hidden_layer_sizes=(30, 50), solver=adam .......\n"
     ]
    },
    {
     "name": "stderr",
     "output_type": "stream",
     "text": [
      "C:\\Users\\Sandy\\anaconda3\\lib\\site-packages\\sklearn\\neural_network\\_multilayer_perceptron.py:582: ConvergenceWarning: Stochastic Optimizer: Maximum iterations (200) reached and the optimization hasn't converged yet.\n",
      "  warnings.warn(\n"
     ]
    },
    {
     "name": "stdout",
     "output_type": "stream",
     "text": [
      "[CV]  activation=relu, hidden_layer_sizes=(30, 50), solver=adam, score=0.803, total=  11.8s\n",
      "[CV] activation=relu, hidden_layer_sizes=(30, 50), solver=adam .......\n"
     ]
    },
    {
     "name": "stderr",
     "output_type": "stream",
     "text": [
      "C:\\Users\\Sandy\\anaconda3\\lib\\site-packages\\sklearn\\neural_network\\_multilayer_perceptron.py:582: ConvergenceWarning: Stochastic Optimizer: Maximum iterations (200) reached and the optimization hasn't converged yet.\n",
      "  warnings.warn(\n"
     ]
    },
    {
     "name": "stdout",
     "output_type": "stream",
     "text": [
      "[CV]  activation=relu, hidden_layer_sizes=(30, 50), solver=adam, score=0.732, total=  12.7s\n",
      "[CV] activation=relu, hidden_layer_sizes=(30, 50), solver=sgd ........\n"
     ]
    },
    {
     "name": "stderr",
     "output_type": "stream",
     "text": [
      "C:\\Users\\Sandy\\anaconda3\\lib\\site-packages\\sklearn\\neural_network\\_multilayer_perceptron.py:582: ConvergenceWarning: Stochastic Optimizer: Maximum iterations (200) reached and the optimization hasn't converged yet.\n",
      "  warnings.warn(\n"
     ]
    },
    {
     "name": "stdout",
     "output_type": "stream",
     "text": [
      "[CV]  activation=relu, hidden_layer_sizes=(30, 50), solver=sgd, score=0.704, total=  11.6s\n",
      "[CV] activation=relu, hidden_layer_sizes=(30, 50), solver=sgd ........\n"
     ]
    },
    {
     "name": "stderr",
     "output_type": "stream",
     "text": [
      "C:\\Users\\Sandy\\anaconda3\\lib\\site-packages\\sklearn\\neural_network\\_multilayer_perceptron.py:582: ConvergenceWarning: Stochastic Optimizer: Maximum iterations (200) reached and the optimization hasn't converged yet.\n",
      "  warnings.warn(\n"
     ]
    },
    {
     "name": "stdout",
     "output_type": "stream",
     "text": [
      "[CV]  activation=relu, hidden_layer_sizes=(30, 50), solver=sgd, score=0.649, total=  12.2s\n",
      "[CV] activation=relu, hidden_layer_sizes=(30, 50), solver=sgd ........\n"
     ]
    },
    {
     "name": "stderr",
     "output_type": "stream",
     "text": [
      "C:\\Users\\Sandy\\anaconda3\\lib\\site-packages\\sklearn\\neural_network\\_multilayer_perceptron.py:582: ConvergenceWarning: Stochastic Optimizer: Maximum iterations (200) reached and the optimization hasn't converged yet.\n",
      "  warnings.warn(\n"
     ]
    },
    {
     "name": "stdout",
     "output_type": "stream",
     "text": [
      "[CV]  activation=relu, hidden_layer_sizes=(30, 50), solver=sgd, score=0.732, total=  12.4s\n",
      "[CV] activation=relu, hidden_layer_sizes=(30, 50), solver=sgd ........\n"
     ]
    },
    {
     "name": "stderr",
     "output_type": "stream",
     "text": [
      "C:\\Users\\Sandy\\anaconda3\\lib\\site-packages\\sklearn\\neural_network\\_multilayer_perceptron.py:582: ConvergenceWarning: Stochastic Optimizer: Maximum iterations (200) reached and the optimization hasn't converged yet.\n",
      "  warnings.warn(\n"
     ]
    },
    {
     "name": "stdout",
     "output_type": "stream",
     "text": [
      "[CV]  activation=relu, hidden_layer_sizes=(30, 50), solver=sgd, score=0.715, total=  12.1s\n",
      "[CV] activation=relu, hidden_layer_sizes=(30, 50), solver=sgd ........\n"
     ]
    },
    {
     "name": "stderr",
     "output_type": "stream",
     "text": [
      "C:\\Users\\Sandy\\anaconda3\\lib\\site-packages\\sklearn\\neural_network\\_multilayer_perceptron.py:582: ConvergenceWarning: Stochastic Optimizer: Maximum iterations (200) reached and the optimization hasn't converged yet.\n",
      "  warnings.warn(\n"
     ]
    },
    {
     "name": "stdout",
     "output_type": "stream",
     "text": [
      "[CV]  activation=relu, hidden_layer_sizes=(30, 50), solver=sgd, score=0.674, total=  11.9s\n",
      "[CV] activation=relu, hidden_layer_sizes=(10, 10, 10), solver=adam ...\n"
     ]
    },
    {
     "name": "stderr",
     "output_type": "stream",
     "text": [
      "C:\\Users\\Sandy\\anaconda3\\lib\\site-packages\\sklearn\\neural_network\\_multilayer_perceptron.py:582: ConvergenceWarning: Stochastic Optimizer: Maximum iterations (200) reached and the optimization hasn't converged yet.\n",
      "  warnings.warn(\n"
     ]
    },
    {
     "name": "stdout",
     "output_type": "stream",
     "text": [
      "[CV]  activation=relu, hidden_layer_sizes=(10, 10, 10), solver=adam, score=0.300, total=  10.8s\n",
      "[CV] activation=relu, hidden_layer_sizes=(10, 10, 10), solver=adam ...\n"
     ]
    },
    {
     "name": "stderr",
     "output_type": "stream",
     "text": [
      "C:\\Users\\Sandy\\anaconda3\\lib\\site-packages\\sklearn\\neural_network\\_multilayer_perceptron.py:582: ConvergenceWarning: Stochastic Optimizer: Maximum iterations (200) reached and the optimization hasn't converged yet.\n",
      "  warnings.warn(\n"
     ]
    },
    {
     "name": "stdout",
     "output_type": "stream",
     "text": [
      "[CV]  activation=relu, hidden_layer_sizes=(10, 10, 10), solver=adam, score=0.393, total=  10.2s\n",
      "[CV] activation=relu, hidden_layer_sizes=(10, 10, 10), solver=adam ...\n"
     ]
    },
    {
     "name": "stderr",
     "output_type": "stream",
     "text": [
      "C:\\Users\\Sandy\\anaconda3\\lib\\site-packages\\sklearn\\neural_network\\_multilayer_perceptron.py:582: ConvergenceWarning: Stochastic Optimizer: Maximum iterations (200) reached and the optimization hasn't converged yet.\n",
      "  warnings.warn(\n"
     ]
    },
    {
     "name": "stdout",
     "output_type": "stream",
     "text": [
      "[CV]  activation=relu, hidden_layer_sizes=(10, 10, 10), solver=adam, score=0.310, total=  10.7s\n",
      "[CV] activation=relu, hidden_layer_sizes=(10, 10, 10), solver=adam ...\n"
     ]
    },
    {
     "name": "stderr",
     "output_type": "stream",
     "text": [
      "C:\\Users\\Sandy\\anaconda3\\lib\\site-packages\\sklearn\\neural_network\\_multilayer_perceptron.py:582: ConvergenceWarning: Stochastic Optimizer: Maximum iterations (200) reached and the optimization hasn't converged yet.\n",
      "  warnings.warn(\n"
     ]
    },
    {
     "name": "stdout",
     "output_type": "stream",
     "text": [
      "[CV]  activation=relu, hidden_layer_sizes=(10, 10, 10), solver=adam, score=0.431, total=  11.1s\n",
      "[CV] activation=relu, hidden_layer_sizes=(10, 10, 10), solver=adam ...\n"
     ]
    },
    {
     "name": "stderr",
     "output_type": "stream",
     "text": [
      "C:\\Users\\Sandy\\anaconda3\\lib\\site-packages\\sklearn\\neural_network\\_multilayer_perceptron.py:582: ConvergenceWarning: Stochastic Optimizer: Maximum iterations (200) reached and the optimization hasn't converged yet.\n",
      "  warnings.warn(\n"
     ]
    },
    {
     "name": "stdout",
     "output_type": "stream",
     "text": [
      "[CV]  activation=relu, hidden_layer_sizes=(10, 10, 10), solver=adam, score=0.439, total=  10.7s\n",
      "[CV] activation=relu, hidden_layer_sizes=(10, 10, 10), solver=sgd ....\n"
     ]
    },
    {
     "name": "stderr",
     "output_type": "stream",
     "text": [
      "C:\\Users\\Sandy\\anaconda3\\lib\\site-packages\\sklearn\\neural_network\\_multilayer_perceptron.py:582: ConvergenceWarning: Stochastic Optimizer: Maximum iterations (200) reached and the optimization hasn't converged yet.\n",
      "  warnings.warn(\n"
     ]
    },
    {
     "name": "stdout",
     "output_type": "stream",
     "text": [
      "[CV]  activation=relu, hidden_layer_sizes=(10, 10, 10), solver=sgd, score=0.300, total=  10.5s\n",
      "[CV] activation=relu, hidden_layer_sizes=(10, 10, 10), solver=sgd ....\n"
     ]
    },
    {
     "name": "stderr",
     "output_type": "stream",
     "text": [
      "C:\\Users\\Sandy\\anaconda3\\lib\\site-packages\\sklearn\\neural_network\\_multilayer_perceptron.py:582: ConvergenceWarning: Stochastic Optimizer: Maximum iterations (200) reached and the optimization hasn't converged yet.\n",
      "  warnings.warn(\n"
     ]
    },
    {
     "name": "stdout",
     "output_type": "stream",
     "text": [
      "[CV]  activation=relu, hidden_layer_sizes=(10, 10, 10), solver=sgd, score=0.084, total=  10.5s\n",
      "[CV] activation=relu, hidden_layer_sizes=(10, 10, 10), solver=sgd ....\n"
     ]
    },
    {
     "name": "stderr",
     "output_type": "stream",
     "text": [
      "C:\\Users\\Sandy\\anaconda3\\lib\\site-packages\\sklearn\\neural_network\\_multilayer_perceptron.py:582: ConvergenceWarning: Stochastic Optimizer: Maximum iterations (200) reached and the optimization hasn't converged yet.\n",
      "  warnings.warn(\n"
     ]
    },
    {
     "name": "stdout",
     "output_type": "stream",
     "text": [
      "[CV]  activation=relu, hidden_layer_sizes=(10, 10, 10), solver=sgd, score=0.238, total=  10.9s\n",
      "[CV] activation=relu, hidden_layer_sizes=(10, 10, 10), solver=sgd ....\n"
     ]
    },
    {
     "name": "stderr",
     "output_type": "stream",
     "text": [
      "C:\\Users\\Sandy\\anaconda3\\lib\\site-packages\\sklearn\\neural_network\\_multilayer_perceptron.py:582: ConvergenceWarning: Stochastic Optimizer: Maximum iterations (200) reached and the optimization hasn't converged yet.\n",
      "  warnings.warn(\n"
     ]
    },
    {
     "name": "stdout",
     "output_type": "stream",
     "text": [
      "[CV]  activation=relu, hidden_layer_sizes=(10, 10, 10), solver=sgd, score=0.130, total=  10.5s\n",
      "[CV] activation=relu, hidden_layer_sizes=(10, 10, 10), solver=sgd ....\n"
     ]
    },
    {
     "name": "stderr",
     "output_type": "stream",
     "text": [
      "C:\\Users\\Sandy\\anaconda3\\lib\\site-packages\\sklearn\\neural_network\\_multilayer_perceptron.py:582: ConvergenceWarning: Stochastic Optimizer: Maximum iterations (200) reached and the optimization hasn't converged yet.\n",
      "  warnings.warn(\n"
     ]
    },
    {
     "name": "stdout",
     "output_type": "stream",
     "text": [
      "[CV]  activation=relu, hidden_layer_sizes=(10, 10, 10), solver=sgd, score=0.067, total=  10.5s\n",
      "[CV] activation=identity, hidden_layer_sizes=(30, 50), solver=adam ...\n"
     ]
    },
    {
     "name": "stderr",
     "output_type": "stream",
     "text": [
      "C:\\Users\\Sandy\\anaconda3\\lib\\site-packages\\sklearn\\neural_network\\_multilayer_perceptron.py:582: ConvergenceWarning: Stochastic Optimizer: Maximum iterations (200) reached and the optimization hasn't converged yet.\n",
      "  warnings.warn(\n"
     ]
    },
    {
     "name": "stdout",
     "output_type": "stream",
     "text": [
      "[CV]  activation=identity, hidden_layer_sizes=(30, 50), solver=adam, score=0.863, total=  10.3s\n",
      "[CV] activation=identity, hidden_layer_sizes=(30, 50), solver=adam ...\n",
      "[CV]  activation=identity, hidden_layer_sizes=(30, 50), solver=adam, score=0.791, total=  10.3s\n",
      "[CV] activation=identity, hidden_layer_sizes=(30, 50), solver=adam ...\n",
      "[CV]  activation=identity, hidden_layer_sizes=(30, 50), solver=adam, score=0.828, total=  10.4s\n",
      "[CV] activation=identity, hidden_layer_sizes=(30, 50), solver=adam ...\n",
      "[CV]  activation=identity, hidden_layer_sizes=(30, 50), solver=adam, score=0.828, total=   9.6s\n",
      "[CV] activation=identity, hidden_layer_sizes=(30, 50), solver=adam ...\n",
      "[CV]  activation=identity, hidden_layer_sizes=(30, 50), solver=adam, score=0.795, total=  10.9s\n",
      "[CV] activation=identity, hidden_layer_sizes=(30, 50), solver=sgd ....\n"
     ]
    },
    {
     "name": "stderr",
     "output_type": "stream",
     "text": [
      "C:\\Users\\Sandy\\anaconda3\\lib\\site-packages\\sklearn\\neural_network\\_multilayer_perceptron.py:582: ConvergenceWarning: Stochastic Optimizer: Maximum iterations (200) reached and the optimization hasn't converged yet.\n",
      "  warnings.warn(\n"
     ]
    },
    {
     "name": "stdout",
     "output_type": "stream",
     "text": [
      "[CV]  activation=identity, hidden_layer_sizes=(30, 50), solver=sgd, score=0.796, total=  10.5s\n",
      "[CV] activation=identity, hidden_layer_sizes=(30, 50), solver=sgd ....\n"
     ]
    },
    {
     "name": "stderr",
     "output_type": "stream",
     "text": [
      "C:\\Users\\Sandy\\anaconda3\\lib\\site-packages\\sklearn\\neural_network\\_multilayer_perceptron.py:582: ConvergenceWarning: Stochastic Optimizer: Maximum iterations (200) reached and the optimization hasn't converged yet.\n",
      "  warnings.warn(\n"
     ]
    },
    {
     "name": "stdout",
     "output_type": "stream",
     "text": [
      "[CV]  activation=identity, hidden_layer_sizes=(30, 50), solver=sgd, score=0.711, total=  10.2s\n",
      "[CV] activation=identity, hidden_layer_sizes=(30, 50), solver=sgd ....\n"
     ]
    },
    {
     "name": "stderr",
     "output_type": "stream",
     "text": [
      "C:\\Users\\Sandy\\anaconda3\\lib\\site-packages\\sklearn\\neural_network\\_multilayer_perceptron.py:582: ConvergenceWarning: Stochastic Optimizer: Maximum iterations (200) reached and the optimization hasn't converged yet.\n",
      "  warnings.warn(\n"
     ]
    },
    {
     "name": "stdout",
     "output_type": "stream",
     "text": [
      "[CV]  activation=identity, hidden_layer_sizes=(30, 50), solver=sgd, score=0.787, total=  10.2s\n",
      "[CV] activation=identity, hidden_layer_sizes=(30, 50), solver=sgd ....\n"
     ]
    },
    {
     "name": "stderr",
     "output_type": "stream",
     "text": [
      "C:\\Users\\Sandy\\anaconda3\\lib\\site-packages\\sklearn\\neural_network\\_multilayer_perceptron.py:582: ConvergenceWarning: Stochastic Optimizer: Maximum iterations (200) reached and the optimization hasn't converged yet.\n",
      "  warnings.warn(\n"
     ]
    },
    {
     "name": "stdout",
     "output_type": "stream",
     "text": [
      "[CV]  activation=identity, hidden_layer_sizes=(30, 50), solver=sgd, score=0.774, total=   9.9s\n",
      "[CV] activation=identity, hidden_layer_sizes=(30, 50), solver=sgd ....\n"
     ]
    },
    {
     "name": "stderr",
     "output_type": "stream",
     "text": [
      "C:\\Users\\Sandy\\anaconda3\\lib\\site-packages\\sklearn\\neural_network\\_multilayer_perceptron.py:582: ConvergenceWarning: Stochastic Optimizer: Maximum iterations (200) reached and the optimization hasn't converged yet.\n",
      "  warnings.warn(\n"
     ]
    },
    {
     "name": "stdout",
     "output_type": "stream",
     "text": [
      "[CV]  activation=identity, hidden_layer_sizes=(30, 50), solver=sgd, score=0.757, total=  10.5s\n",
      "[CV] activation=identity, hidden_layer_sizes=(10, 10, 10), solver=adam \n"
     ]
    },
    {
     "name": "stderr",
     "output_type": "stream",
     "text": [
      "C:\\Users\\Sandy\\anaconda3\\lib\\site-packages\\sklearn\\neural_network\\_multilayer_perceptron.py:582: ConvergenceWarning: Stochastic Optimizer: Maximum iterations (200) reached and the optimization hasn't converged yet.\n",
      "  warnings.warn(\n"
     ]
    },
    {
     "name": "stdout",
     "output_type": "stream",
     "text": [
      "[CV]  activation=identity, hidden_layer_sizes=(10, 10, 10), solver=adam, score=0.746, total=  10.0s\n",
      "[CV] activation=identity, hidden_layer_sizes=(10, 10, 10), solver=adam \n"
     ]
    },
    {
     "name": "stderr",
     "output_type": "stream",
     "text": [
      "C:\\Users\\Sandy\\anaconda3\\lib\\site-packages\\sklearn\\neural_network\\_multilayer_perceptron.py:582: ConvergenceWarning: Stochastic Optimizer: Maximum iterations (200) reached and the optimization hasn't converged yet.\n",
      "  warnings.warn(\n"
     ]
    },
    {
     "name": "stdout",
     "output_type": "stream",
     "text": [
      "[CV]  activation=identity, hidden_layer_sizes=(10, 10, 10), solver=adam, score=0.661, total=   9.6s\n",
      "[CV] activation=identity, hidden_layer_sizes=(10, 10, 10), solver=adam \n"
     ]
    },
    {
     "name": "stderr",
     "output_type": "stream",
     "text": [
      "C:\\Users\\Sandy\\anaconda3\\lib\\site-packages\\sklearn\\neural_network\\_multilayer_perceptron.py:582: ConvergenceWarning: Stochastic Optimizer: Maximum iterations (200) reached and the optimization hasn't converged yet.\n",
      "  warnings.warn(\n"
     ]
    },
    {
     "name": "stdout",
     "output_type": "stream",
     "text": [
      "[CV]  activation=identity, hidden_layer_sizes=(10, 10, 10), solver=adam, score=0.707, total=  10.1s\n",
      "[CV] activation=identity, hidden_layer_sizes=(10, 10, 10), solver=adam \n"
     ]
    },
    {
     "name": "stderr",
     "output_type": "stream",
     "text": [
      "C:\\Users\\Sandy\\anaconda3\\lib\\site-packages\\sklearn\\neural_network\\_multilayer_perceptron.py:582: ConvergenceWarning: Stochastic Optimizer: Maximum iterations (200) reached and the optimization hasn't converged yet.\n",
      "  warnings.warn(\n"
     ]
    },
    {
     "name": "stdout",
     "output_type": "stream",
     "text": [
      "[CV]  activation=identity, hidden_layer_sizes=(10, 10, 10), solver=adam, score=0.715, total=  10.1s\n",
      "[CV] activation=identity, hidden_layer_sizes=(10, 10, 10), solver=adam \n"
     ]
    },
    {
     "name": "stderr",
     "output_type": "stream",
     "text": [
      "C:\\Users\\Sandy\\anaconda3\\lib\\site-packages\\sklearn\\neural_network\\_multilayer_perceptron.py:582: ConvergenceWarning: Stochastic Optimizer: Maximum iterations (200) reached and the optimization hasn't converged yet.\n",
      "  warnings.warn(\n"
     ]
    },
    {
     "name": "stdout",
     "output_type": "stream",
     "text": [
      "[CV]  activation=identity, hidden_layer_sizes=(10, 10, 10), solver=adam, score=0.707, total=  10.3s\n",
      "[CV] activation=identity, hidden_layer_sizes=(10, 10, 10), solver=sgd \n"
     ]
    },
    {
     "name": "stderr",
     "output_type": "stream",
     "text": [
      "C:\\Users\\Sandy\\anaconda3\\lib\\site-packages\\sklearn\\neural_network\\_multilayer_perceptron.py:582: ConvergenceWarning: Stochastic Optimizer: Maximum iterations (200) reached and the optimization hasn't converged yet.\n",
      "  warnings.warn(\n"
     ]
    },
    {
     "name": "stdout",
     "output_type": "stream",
     "text": [
      "[CV]  activation=identity, hidden_layer_sizes=(10, 10, 10), solver=sgd, score=0.646, total=   9.7s\n",
      "[CV] activation=identity, hidden_layer_sizes=(10, 10, 10), solver=sgd \n"
     ]
    }
   ],
   "source": [
    "gridSearch.fit(x_train, y_train.values.ravel())\n"
   ]
  },
  {
   "cell_type": "code",
   "execution_count": 13,
   "metadata": {},
   "outputs": [
    {
     "name": "stdout",
     "output_type": "stream",
     "text": [
      "MLPClassifier(activation='identity', hidden_layer_sizes=(30, 50))\n"
     ]
    }
   ],
   "source": [
    "print(gridSearch.best_estimator_)\n"
   ]
  },
  {
   "cell_type": "code",
   "execution_count": 14,
   "metadata": {},
   "outputs": [
    {
     "name": "stdout",
     "output_type": "stream",
     "text": [
      "{'activation': 'identity', 'hidden_layer_sizes': (30, 50), 'solver': 'adam'}\n"
     ]
    }
   ],
   "source": [
    "print(gridSearch.best_params_)\n"
   ]
  },
  {
   "cell_type": "code",
   "execution_count": 15,
   "metadata": {},
   "outputs": [
    {
     "name": "stdout",
     "output_type": "stream",
     "text": [
      "{'mean_fit_time': array([10.80012698,  5.15159826,  9.91839743,  6.52413945, 11.67524056,\n",
      "       11.29198003, 10.09944963,  9.28303432, 12.5709084 , 11.96087914,\n",
      "       10.46281648, 10.69309287, 10.80459089, 10.99407883, 10.00300727,\n",
      "        9.73331208]), 'std_fit_time': array([0.06928172, 0.69733483, 0.29038108, 0.81111349, 0.40777538,\n",
      "       0.4748724 , 0.20337873, 0.19814912, 0.27456927, 0.44483665,\n",
      "       0.21921068, 0.6384393 , 0.2595564 , 0.56419507, 0.20833502,\n",
      "       0.15060702]), 'mean_score_time': array([0.02273159, 0.02694511, 0.02450857, 0.02295227, 0.02652845,\n",
      "       0.02547369, 0.02273674, 0.0229301 , 0.02691975, 0.02650881,\n",
      "       0.02320032, 0.02684269, 0.0270833 , 0.02486753, 0.02572236,\n",
      "       0.02468276]), 'std_score_time': array([0.00193724, 0.00388768, 0.00078433, 0.00276407, 0.00312532,\n",
      "       0.00290797, 0.00160747, 0.00286583, 0.00210941, 0.00155296,\n",
      "       0.00172353, 0.00211318, 0.00093505, 0.00474367, 0.00201941,\n",
      "       0.00201604]), 'param_activation': masked_array(data=['logistic', 'logistic', 'logistic', 'logistic', 'tanh',\n",
      "                   'tanh', 'tanh', 'tanh', 'relu', 'relu', 'relu', 'relu',\n",
      "                   'identity', 'identity', 'identity', 'identity'],\n",
      "             mask=[False, False, False, False, False, False, False, False,\n",
      "                   False, False, False, False, False, False, False, False],\n",
      "       fill_value='?',\n",
      "            dtype=object), 'param_hidden_layer_sizes': masked_array(data=[(30, 50), (30, 50), (10, 10, 10), (10, 10, 10),\n",
      "                   (30, 50), (30, 50), (10, 10, 10), (10, 10, 10),\n",
      "                   (30, 50), (30, 50), (10, 10, 10), (10, 10, 10),\n",
      "                   (30, 50), (30, 50), (10, 10, 10), (10, 10, 10)],\n",
      "             mask=[False, False, False, False, False, False, False, False,\n",
      "                   False, False, False, False, False, False, False, False],\n",
      "       fill_value='?',\n",
      "            dtype=object), 'param_solver': masked_array(data=['adam', 'sgd', 'adam', 'sgd', 'adam', 'sgd', 'adam',\n",
      "                   'sgd', 'adam', 'sgd', 'adam', 'sgd', 'adam', 'sgd',\n",
      "                   'adam', 'sgd'],\n",
      "             mask=[False, False, False, False, False, False, False, False,\n",
      "                   False, False, False, False, False, False, False, False],\n",
      "       fill_value='?',\n",
      "            dtype=object), 'params': [{'activation': 'logistic', 'hidden_layer_sizes': (30, 50), 'solver': 'adam'}, {'activation': 'logistic', 'hidden_layer_sizes': (30, 50), 'solver': 'sgd'}, {'activation': 'logistic', 'hidden_layer_sizes': (10, 10, 10), 'solver': 'adam'}, {'activation': 'logistic', 'hidden_layer_sizes': (10, 10, 10), 'solver': 'sgd'}, {'activation': 'tanh', 'hidden_layer_sizes': (30, 50), 'solver': 'adam'}, {'activation': 'tanh', 'hidden_layer_sizes': (30, 50), 'solver': 'sgd'}, {'activation': 'tanh', 'hidden_layer_sizes': (10, 10, 10), 'solver': 'adam'}, {'activation': 'tanh', 'hidden_layer_sizes': (10, 10, 10), 'solver': 'sgd'}, {'activation': 'relu', 'hidden_layer_sizes': (30, 50), 'solver': 'adam'}, {'activation': 'relu', 'hidden_layer_sizes': (30, 50), 'solver': 'sgd'}, {'activation': 'relu', 'hidden_layer_sizes': (10, 10, 10), 'solver': 'adam'}, {'activation': 'relu', 'hidden_layer_sizes': (10, 10, 10), 'solver': 'sgd'}, {'activation': 'identity', 'hidden_layer_sizes': (30, 50), 'solver': 'adam'}, {'activation': 'identity', 'hidden_layer_sizes': (30, 50), 'solver': 'sgd'}, {'activation': 'identity', 'hidden_layer_sizes': (10, 10, 10), 'solver': 'adam'}, {'activation': 'identity', 'hidden_layer_sizes': (10, 10, 10), 'solver': 'sgd'}], 'split0_test_score': array([0.79583333, 0.04166667, 0.10833333, 0.04166667, 0.85416667,\n",
      "       0.68333333, 0.64166667, 0.35416667, 0.66666667, 0.70416667,\n",
      "       0.3875    , 0.225     , 0.8625    , 0.79583333, 0.7375    ,\n",
      "       0.63333333]), 'split1_test_score': array([0.65690377, 0.041841  , 0.21338912, 0.0460251 , 0.76150628,\n",
      "       0.63598326, 0.64435146, 0.30962343, 0.74058577, 0.65271967,\n",
      "       0.60669456, 0.07112971, 0.78242678, 0.72384937, 0.69874477,\n",
      "       0.61506276]), 'split2_test_score': array([0.82008368, 0.041841  , 0.12970711, 0.0460251 , 0.82426778,\n",
      "       0.66108787, 0.55230126, 0.33472803, 0.79079498, 0.71129707,\n",
      "       0.50209205, 0.26778243, 0.84937238, 0.76987448, 0.73640167,\n",
      "       0.57322176]), 'split3_test_score': array([0.77405858, 0.041841  , 0.10041841, 0.041841  , 0.82426778,\n",
      "       0.69874477, 0.52719665, 0.27196653, 0.80334728, 0.72384937,\n",
      "       0.17573222, 0.041841  , 0.82426778, 0.76150628, 0.69874477,\n",
      "       0.65690377]), 'split4_test_score': array([0.75313808, 0.0334728 , 0.10878661, 0.041841  , 0.77405858,\n",
      "       0.69037657, 0.56066946, 0.21757322, 0.76150628, 0.70711297,\n",
      "       0.41422594, 0.07112971, 0.79916318, 0.76987448, 0.69874477,\n",
      "       0.65271967]), 'mean_test_score': array([0.76000349, 0.0401325 , 0.13212692, 0.04347978, 0.80765342,\n",
      "       0.67390516, 0.5852371 , 0.29761158, 0.7525802 , 0.69982915,\n",
      "       0.41724895, 0.13537657, 0.82354603, 0.76418759, 0.7140272 ,\n",
      "       0.62624826]), 'std_test_score': array([0.05615628, 0.00333053, 0.04177496, 0.00207923, 0.03456509,\n",
      "       0.02271368, 0.04844757, 0.0485473 , 0.04825421, 0.02449349,\n",
      "       0.14304717, 0.09226905, 0.02990067, 0.02324003, 0.0187203 ,\n",
      "       0.03042242]), 'rank_test_score': array([ 4, 16, 14, 15,  2,  8, 10, 12,  5,  7, 11, 13,  1,  3,  6,  9])}\n"
     ]
    }
   ],
   "source": [
    "print(gridSearch.cv_results_)\n"
   ]
  },
  {
   "cell_type": "code",
   "execution_count": 16,
   "metadata": {},
   "outputs": [
    {
     "name": "stdout",
     "output_type": "stream",
     "text": [
      "0.8235460251046026\n"
     ]
    }
   ],
   "source": [
    "print(gridSearch.best_score_)"
   ]
  },
  {
   "cell_type": "code",
   "execution_count": null,
   "metadata": {},
   "outputs": [],
   "source": []
  }
 ],
 "metadata": {
  "kernelspec": {
   "display_name": "Python 3",
   "language": "python",
   "name": "python3"
  },
  "language_info": {
   "codemirror_mode": {
    "name": "ipython",
    "version": 3
   },
   "file_extension": ".py",
   "mimetype": "text/x-python",
   "name": "python",
   "nbconvert_exporter": "python",
   "pygments_lexer": "ipython3",
   "version": "3.8.3"
  }
 },
 "nbformat": 4,
 "nbformat_minor": 4
}
