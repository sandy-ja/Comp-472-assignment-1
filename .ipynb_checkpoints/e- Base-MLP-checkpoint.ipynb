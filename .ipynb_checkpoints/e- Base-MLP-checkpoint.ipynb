{
 "cells": [
  {
   "cell_type": "code",
   "execution_count": 153,
   "metadata": {},
   "outputs": [],
   "source": [
    "import pandas as pd    #importing librabies needed\n",
    "from sklearn.neural_network import MLPClassifier\n",
    "from sklearn.datasets import make_classification\n",
    "from sklearn.metrics import confusion_matrix, classification_report\n"
   ]
  },
  {
   "cell_type": "code",
   "execution_count": 154,
   "metadata": {},
   "outputs": [],
   "source": [
    "file = pd.read_csv('train_1.csv')        #reading the training file "
   ]
  },
  {
   "cell_type": "code",
   "execution_count": 155,
   "metadata": {},
   "outputs": [],
   "source": [
    "y_train = file.iloc[:,-1:]               #splitting the last column from the training set (the result)\n"
   ]
  },
  {
   "cell_type": "code",
   "execution_count": 156,
   "metadata": {},
   "outputs": [],
   "source": [
    "x_train = file.iloc[:,:-1]               #splitting features columns \n"
   ]
  },
  {
   "cell_type": "code",
   "execution_count": 157,
   "metadata": {},
   "outputs": [],
   "source": [
    "clf = MLPClassifier(hidden_layer_sizes=(100),activation='logistic',solver='sgd')\n"
   ]
  },
  {
   "cell_type": "code",
   "execution_count": 158,
   "metadata": {},
   "outputs": [
    {
     "name": "stderr",
     "output_type": "stream",
     "text": [
      "C:\\Users\\Sandy\\anaconda3\\lib\\site-packages\\sklearn\\neural_network\\_multilayer_perceptron.py:582: ConvergenceWarning: Stochastic Optimizer: Maximum iterations (200) reached and the optimization hasn't converged yet.\n",
      "  warnings.warn(\n"
     ]
    },
    {
     "data": {
      "text/plain": [
       "MLPClassifier(activation='logistic', hidden_layer_sizes=100, solver='sgd')"
      ]
     },
     "execution_count": 158,
     "metadata": {},
     "output_type": "execute_result"
    }
   ],
   "source": [
    "clf.fit(x_train, y_train.values.ravel())"
   ]
  },
  {
   "cell_type": "code",
   "execution_count": 159,
   "metadata": {},
   "outputs": [],
   "source": [
    "test = pd.read_csv('test_with_label_1.csv')    #reading the test file"
   ]
  },
  {
   "cell_type": "code",
   "execution_count": 160,
   "metadata": {},
   "outputs": [],
   "source": [
    "x_test = test.iloc[:,:-1]             #splitting features columns "
   ]
  },
  {
   "cell_type": "code",
   "execution_count": 161,
   "metadata": {},
   "outputs": [],
   "source": [
    "y_test = test.iloc[:,-1:]             #splitting the last column from the test set (the result)"
   ]
  },
  {
   "cell_type": "code",
   "execution_count": 162,
   "metadata": {},
   "outputs": [
    {
     "data": {
      "text/plain": [
       "0.45569620253164556"
      ]
     },
     "execution_count": 162,
     "metadata": {},
     "output_type": "execute_result"
    }
   ],
   "source": [
    "clf.score(x_test,y_test)"
   ]
  },
  {
   "cell_type": "code",
   "execution_count": 163,
   "metadata": {},
   "outputs": [],
   "source": [
    "clf_pred = clf.predict(x_test)\n"
   ]
  },
  {
   "cell_type": "code",
   "execution_count": 164,
   "metadata": {},
   "outputs": [
    {
     "name": "stdout",
     "output_type": "stream",
     "text": [
      "              precision    recall  f1-score   support\n",
      "\n",
      "           0       0.75      0.75      0.75         4\n",
      "           1       0.00      0.00      0.00         2\n",
      "           2       0.67      1.00      0.80         4\n",
      "           3       0.00      0.00      0.00         3\n",
      "           4       0.00      0.00      0.00         1\n",
      "           5       0.00      0.00      0.00         2\n",
      "           6       1.00      0.75      0.86         4\n",
      "           7       1.00      0.33      0.50         3\n",
      "           8       0.27      1.00      0.43         3\n",
      "           9       0.67      0.50      0.57         4\n",
      "          10       0.33      1.00      0.50         3\n",
      "          11       1.00      0.50      0.67         4\n",
      "          12       0.33      0.67      0.44         3\n",
      "          13       0.40      1.00      0.57         4\n",
      "          14       0.30      1.00      0.46         3\n",
      "          15       0.00      0.00      0.00         3\n",
      "          16       1.00      0.33      0.50         3\n",
      "          17       0.33      0.75      0.46         4\n",
      "          18       0.00      0.00      0.00         3\n",
      "          19       0.00      0.00      0.00         2\n",
      "          20       0.00      0.00      0.00         3\n",
      "          21       0.00      0.00      0.00         3\n",
      "          22       0.50      0.67      0.57         3\n",
      "          23       0.00      0.00      0.00         2\n",
      "          24       0.00      0.00      0.00         3\n",
      "          25       0.00      0.00      0.00         3\n",
      "\n",
      "    accuracy                           0.46        79\n",
      "   macro avg       0.33      0.39      0.31        79\n",
      "weighted avg       0.39      0.46      0.37        79\n",
      "\n"
     ]
    },
    {
     "name": "stderr",
     "output_type": "stream",
     "text": [
      "C:\\Users\\Sandy\\anaconda3\\lib\\site-packages\\sklearn\\metrics\\_classification.py:1221: UndefinedMetricWarning: Precision and F-score are ill-defined and being set to 0.0 in labels with no predicted samples. Use `zero_division` parameter to control this behavior.\n",
      "  _warn_prf(average, modifier, msg_start, len(result))\n"
     ]
    }
   ],
   "source": [
    "print(classification_report(y_test,clf_pred))   #generating the report "
   ]
  },
  {
   "cell_type": "code",
   "execution_count": 165,
   "metadata": {},
   "outputs": [
    {
     "name": "stdout",
     "output_type": "stream",
     "text": [
      "[[3 0 0 0 0 0 0 0 0 0 0 0 0 0 0 0 0 1 0 0 0 0 0 0 0 0]\n",
      " [0 0 0 0 0 0 0 0 0 0 0 0 0 1 0 0 0 1 0 0 0 0 0 0 0 0]\n",
      " [0 0 4 0 0 0 0 0 0 0 0 0 0 0 0 0 0 0 0 0 0 0 0 0 0 0]\n",
      " [0 0 0 0 0 0 0 0 1 0 0 0 0 0 2 0 0 0 0 0 0 0 0 0 0 0]\n",
      " [0 0 1 0 0 0 0 0 0 0 0 0 0 0 0 0 0 0 0 0 0 0 0 0 0 0]\n",
      " [0 0 0 0 0 0 0 0 0 0 1 0 1 0 0 0 0 0 0 0 0 0 0 0 0 0]\n",
      " [1 0 0 0 0 0 3 0 0 0 0 0 0 0 0 0 0 0 0 0 0 0 0 0 0 0]\n",
      " [0 0 0 0 0 0 0 1 0 0 0 0 1 0 0 0 0 1 0 0 0 0 0 0 0 0]\n",
      " [0 0 0 0 0 0 0 0 3 0 0 0 0 0 0 0 0 0 0 0 0 0 0 0 0 0]\n",
      " [0 0 0 0 0 0 0 0 2 2 0 0 0 0 0 0 0 0 0 0 0 0 0 0 0 0]\n",
      " [0 0 0 0 0 0 0 0 0 0 3 0 0 0 0 0 0 0 0 0 0 0 0 0 0 0]\n",
      " [0 0 1 0 0 0 0 0 0 0 1 2 0 0 0 0 0 0 0 0 0 0 0 0 0 0]\n",
      " [0 0 0 0 0 0 0 0 0 0 1 0 2 0 0 0 0 0 0 0 0 0 0 0 0 0]\n",
      " [0 0 0 0 0 0 0 0 0 0 0 0 0 4 0 0 0 0 0 0 0 0 0 0 0 0]\n",
      " [0 0 0 0 0 0 0 0 0 0 0 0 0 0 3 0 0 0 0 0 0 0 0 0 0 0]\n",
      " [0 0 0 0 0 0 0 0 1 0 1 0 0 0 0 0 0 1 0 0 0 0 0 0 0 0]\n",
      " [0 0 0 0 0 0 0 0 0 0 0 0 0 0 2 0 1 0 0 0 0 0 0 0 0 0]\n",
      " [0 0 0 0 0 0 0 0 0 0 1 0 0 0 0 0 0 3 0 0 0 0 0 0 0 0]\n",
      " [0 0 0 0 0 0 0 0 0 1 0 0 0 0 2 0 0 0 0 0 0 0 0 0 0 0]\n",
      " [0 0 0 0 0 0 0 0 2 0 0 0 0 0 0 0 0 0 0 0 0 0 0 0 0 0]\n",
      " [0 0 0 0 0 0 0 0 0 0 0 0 0 2 1 0 0 0 0 0 0 0 0 0 0 0]\n",
      " [0 0 0 0 0 0 0 0 0 0 0 0 0 1 0 0 0 0 0 0 0 0 2 0 0 0]\n",
      " [0 0 0 0 0 0 0 0 0 0 0 0 1 0 0 0 0 0 0 0 0 0 2 0 0 0]\n",
      " [0 0 0 0 0 0 0 0 0 0 0 0 0 1 0 0 0 1 0 0 0 0 0 0 0 0]\n",
      " [0 0 0 0 0 0 0 0 1 0 0 0 0 1 0 0 0 1 0 0 0 0 0 0 0 0]\n",
      " [0 0 0 0 0 0 0 0 1 0 1 0 1 0 0 0 0 0 0 0 0 0 0 0 0 0]]\n"
     ]
    }
   ],
   "source": [
    "print(confusion_matrix(y_test,clf_pred))    #generating the confusion matrix"
   ]
  },
  {
   "cell_type": "markdown",
   "metadata": {},
   "source": [
    "# Here is the Greek letters test:  \n"
   ]
  },
  {
   "cell_type": "code",
   "execution_count": 166,
   "metadata": {},
   "outputs": [],
   "source": [
    "file2 = pd.read_csv('train_2.csv')           #reading the training file"
   ]
  },
  {
   "cell_type": "code",
   "execution_count": 167,
   "metadata": {},
   "outputs": [],
   "source": [
    "y2_train = file2.iloc[:,-1:]                 #splitting the last column from the training set (the result)\n"
   ]
  },
  {
   "cell_type": "code",
   "execution_count": 168,
   "metadata": {},
   "outputs": [],
   "source": [
    "x2_train = file2.iloc[:,:-1]                 #splitting features columns \n"
   ]
  },
  {
   "cell_type": "code",
   "execution_count": 169,
   "metadata": {},
   "outputs": [],
   "source": [
    "test2 = pd.read_csv('test_with_label_2.csv')   #reading the test file"
   ]
  },
  {
   "cell_type": "code",
   "execution_count": 170,
   "metadata": {},
   "outputs": [],
   "source": [
    "x2_test = test2.iloc[:,:-1]                 #splitting features columns "
   ]
  },
  {
   "cell_type": "code",
   "execution_count": 171,
   "metadata": {},
   "outputs": [],
   "source": [
    "y2_test = test2.iloc[:,-1:]                 #splitting the last column from the test set (the result)"
   ]
  },
  {
   "cell_type": "code",
   "execution_count": 172,
   "metadata": {},
   "outputs": [],
   "source": [
    "clf2 = MLPClassifier(hidden_layer_sizes=(100),activation='logistic',solver='sgd')\n"
   ]
  },
  {
   "cell_type": "code",
   "execution_count": 173,
   "metadata": {},
   "outputs": [
    {
     "name": "stderr",
     "output_type": "stream",
     "text": [
      "C:\\Users\\Sandy\\anaconda3\\lib\\site-packages\\sklearn\\neural_network\\_multilayer_perceptron.py:582: ConvergenceWarning: Stochastic Optimizer: Maximum iterations (200) reached and the optimization hasn't converged yet.\n",
      "  warnings.warn(\n"
     ]
    },
    {
     "data": {
      "text/plain": [
       "MLPClassifier(activation='logistic', hidden_layer_sizes=100, solver='sgd')"
      ]
     },
     "execution_count": 173,
     "metadata": {},
     "output_type": "execute_result"
    }
   ],
   "source": [
    "clf2.fit(x2_train, y2_train.values.ravel())"
   ]
  },
  {
   "cell_type": "code",
   "execution_count": 174,
   "metadata": {},
   "outputs": [
    {
     "data": {
      "text/plain": [
       "array([0, 4, 5, 9, 1, 1, 3, 8, 9, 5, 1, 3, 9, 9, 1, 9, 9, 7, 1, 6, 1, 9,\n",
       "       7, 9, 8, 1, 1, 8, 8, 9, 8, 8, 9, 8, 1, 9, 9, 1, 1, 1, 7, 9, 5, 9,\n",
       "       9, 1, 1, 5, 1, 9, 9, 5, 9, 0, 0, 8, 5, 9, 1, 1, 9, 0, 0, 9, 0, 1,\n",
       "       4, 0, 0, 3, 1, 1, 9, 5, 8, 9, 1, 0, 4, 7, 1, 0, 5, 0, 9, 9, 9, 7,\n",
       "       1, 8, 4, 1, 1, 5, 1, 9, 9, 0, 0, 4, 8, 8, 2, 4, 5, 8, 5, 5, 4, 1,\n",
       "       9, 5, 5, 8, 9, 8, 0, 8, 9, 1, 5, 5, 9, 1, 1, 2, 4, 4, 9, 1, 1, 8,\n",
       "       1, 9, 1, 4, 9, 0, 8, 5, 0, 1, 4, 4, 4, 9, 9, 5, 1, 1, 5, 9, 1, 5,\n",
       "       0, 1, 5, 5, 3, 0, 8, 0, 1, 1, 1, 1, 1, 9, 0, 5, 9, 5, 0, 4, 1, 1,\n",
       "       0, 0, 5, 4, 1, 9, 9, 4, 1, 9, 9, 0, 3, 1, 9, 1, 9, 5, 7, 9, 7, 9,\n",
       "       9, 5, 0, 9, 0, 5, 5, 8, 1, 5, 1, 4, 5, 1, 0, 9, 0, 8, 1, 1, 9, 8,\n",
       "       1, 9, 4, 9, 3, 9, 5, 8, 1, 9, 1, 4, 9, 1, 1, 5, 9, 8, 1, 2, 0, 9,\n",
       "       9, 1, 1, 5, 0, 9, 7, 9, 1, 1, 1, 9, 0, 9, 4, 1, 1, 9, 1, 1, 1, 5,\n",
       "       5, 9, 2, 7, 8, 5, 4, 9, 1, 7, 8, 5, 8, 9, 5, 0, 4, 4, 6, 0, 9, 0,\n",
       "       1, 9, 1, 3, 9, 8, 8, 1, 9, 1, 0, 8, 5, 1, 5, 9, 5, 1, 1, 1, 7, 1,\n",
       "       3, 9, 9, 1, 9, 1, 8, 5, 9, 9, 7, 9, 1, 9, 9, 2, 5, 9, 0, 1, 9, 5,\n",
       "       1, 9, 4, 1, 0, 7, 1, 9, 4, 8, 9, 5, 8, 0, 5, 5, 4, 9, 9, 5, 3, 1,\n",
       "       8, 1, 9, 4, 1, 1, 1, 0, 9, 0, 9, 9, 8, 8, 1, 1, 1, 9, 5, 1, 5, 1,\n",
       "       4, 1, 9, 8, 8, 1, 9, 1, 1, 1, 9, 4, 4, 9, 8, 9, 9, 0, 1, 5, 1, 2,\n",
       "       8, 2, 1, 1, 9, 0, 9, 8, 7, 8, 9, 8, 9, 5, 6, 1, 9, 1, 1, 9, 1, 4,\n",
       "       5, 9, 9, 0, 9, 8, 0, 9, 5, 4, 8, 9, 0, 1, 9, 9, 1, 1, 9, 9, 5, 1,\n",
       "       0, 0, 1, 0, 9, 8, 8, 9, 9, 9, 4, 1, 9, 8, 0, 1, 0, 1, 9, 1, 8, 8,\n",
       "       9, 9, 4, 1, 8, 7, 8, 9, 8, 2, 9, 3, 9, 5, 0, 8, 4, 1, 1, 1, 0, 9,\n",
       "       4, 9, 8, 9, 0, 1, 5, 4, 1, 8, 1, 3, 0, 0, 1, 9, 0, 5, 4, 9, 0, 8,\n",
       "       1, 5, 8, 9, 1, 1, 9, 4, 0, 1, 9, 6, 5], dtype=int64)"
      ]
     },
     "execution_count": 174,
     "metadata": {},
     "output_type": "execute_result"
    }
   ],
   "source": [
    "clf2_pred = clf2.predict(x2_test)\n",
    "clf2_pred"
   ]
  },
  {
   "cell_type": "code",
   "execution_count": 175,
   "metadata": {},
   "outputs": [
    {
     "name": "stdout",
     "output_type": "stream",
     "text": [
      "              precision    recall  f1-score   support\n",
      "\n",
      "           0       0.78      0.82      0.80        55\n",
      "           1       0.92      0.97      0.94       125\n",
      "           2       0.75      0.40      0.52        15\n",
      "           3       0.91      0.67      0.77        15\n",
      "           4       0.72      0.56      0.63        50\n",
      "           5       0.82      0.91      0.86        55\n",
      "           6       1.00      0.27      0.42        15\n",
      "           7       1.00      1.00      1.00        15\n",
      "           8       0.76      0.88      0.81        50\n",
      "           9       0.81      0.87      0.84       124\n",
      "\n",
      "    accuracy                           0.83       519\n",
      "   macro avg       0.85      0.73      0.76       519\n",
      "weighted avg       0.83      0.83      0.82       519\n",
      "\n"
     ]
    }
   ],
   "source": [
    "print(classification_report(y2_test,clf2_pred))   #generating the report "
   ]
  },
  {
   "cell_type": "code",
   "execution_count": 176,
   "metadata": {},
   "outputs": [
    {
     "name": "stdout",
     "output_type": "stream",
     "text": [
      "[[ 45   3   1   0   0   2   0   0   1   3]\n",
      " [  2 121   0   1   0   1   0   0   0   0]\n",
      " [  0   0   6   0   0   1   0   0   7   1]\n",
      " [  2   2   0  10   1   0   0   0   0   0]\n",
      " [  4   1   0   0  28   2   0   0   3  12]\n",
      " [  0   0   0   0   1  50   0   0   0   4]\n",
      " [  2   4   1   0   1   0   4   0   2   1]\n",
      " [  0   0   0   0   0   0   0  15   0   0]\n",
      " [  1   1   0   0   0   0   0   0  44   4]\n",
      " [  2   0   0   0   8   5   0   0   1 108]]\n"
     ]
    }
   ],
   "source": [
    "print(confusion_matrix(y2_test,clf2_pred))    #generating the confusion matrix"
   ]
  },
  {
   "cell_type": "code",
   "execution_count": null,
   "metadata": {},
   "outputs": [],
   "source": []
  }
 ],
 "metadata": {
  "kernelspec": {
   "display_name": "Python 3",
   "language": "python",
   "name": "python3"
  },
  "language_info": {
   "codemirror_mode": {
    "name": "ipython",
    "version": 3
   },
   "file_extension": ".py",
   "mimetype": "text/x-python",
   "name": "python",
   "nbconvert_exporter": "python",
   "pygments_lexer": "ipython3",
   "version": "3.8.3"
  }
 },
 "nbformat": 4,
 "nbformat_minor": 4
}
